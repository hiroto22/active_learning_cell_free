{
 "cells": [
  {
   "cell_type": "code",
   "execution_count": 1,
   "id": "22791125-c130-4398-b984-b70c31e6889e",
   "metadata": {},
   "outputs": [],
   "source": [
    "#import libraries"
   ]
  },
  {
   "cell_type": "code",
   "execution_count": 43,
   "id": "1af62de8-39d8-4f6b-a27b-e633495284a1",
   "metadata": {},
   "outputs": [],
   "source": [
    "import numpy as np\n",
    "import random"
   ]
  },
  {
   "cell_type": "code",
   "execution_count": 44,
   "id": "88838d42-d241-4699-ac74-60b51a82372b",
   "metadata": {},
   "outputs": [],
   "source": [
    "data_folder = \"echo_files\""
   ]
  },
  {
   "cell_type": "code",
   "execution_count": null,
   "id": "58c1e762-a2b7-43d1-9f65-fabd599b7251",
   "metadata": {},
   "outputs": [],
   "source": []
  },
  {
   "cell_type": "code",
   "execution_count": 45,
   "id": "79d44ea4-8bfe-4b19-ad14-796532e3fa1a",
   "metadata": {},
   "outputs": [],
   "source": [
    "#Defining the tested concentrations and volumes"
   ]
  },
  {
   "cell_type": "code",
   "execution_count": 46,
   "id": "5ddf569f-a564-41a9-b8a3-cb4e399cb0b7",
   "metadata": {},
   "outputs": [],
   "source": [
    "# Allowed concentrations\n",
    "\n",
    "extract_conc = [1]\n",
    "mg_gluta_conc = [0.1, 0.3, 0.5, 1]\n",
    "K_gluta_conc = [0.1, 0.3, 0.5, 1]\n",
    "aa_conc = [0.1, 0.3, 0.5, 1]\n",
    "peg_conc = [1]\n",
    "hepes_conc = [1]\n",
    "trna_conc = [0.1, 0.3, 0.5, 1]\n",
    "coa_conc = [0.1, 0.3, 0.5, 1]\n",
    "nad_conc = [0.1, 0.3, 0.5, 1]\n",
    "camp_conc = [0.1, 0.3, 0.5, 1]\n",
    "folinic_acid_conc = [0.1, 0.3, 0.5, 1]\n",
    "spermidine_conc = [0.1, 0.3, 0.5, 1]\n",
    "pga_conc = [0.1, 0.3, 0.5, 1]\n",
    "nucleo_conc = [0.1, 0.3, 0.5, 1]\n",
    "DNA_mix = [0, 1]\n",
    "\n",
    "promoter_conc = [1]\n",
    "RBS_conc = [1]"
   ]
  },
  {
   "cell_type": "code",
   "execution_count": 47,
   "id": "afc1ab91-b265-434f-a2c9-b22e78db93ac",
   "metadata": {},
   "outputs": [],
   "source": [
    "# Maximum concentrations for each component\n",
    "\n",
    "extract_max = 30\n",
    "mg_gluta_max = 4\n",
    "K_gluta_max = 80\n",
    "aa_max = 1.5\n",
    "peg_max = 2\n",
    "hepes_max = 50\n",
    "trna_max = 0.2\n",
    "coa_max = 0.26\n",
    "nad_max = 0.33\n",
    "camp_max = 0.75\n",
    "folinic_acid_max = 0.068\n",
    "spemidine_max = 1\n",
    "pga_max = 30\n",
    "nucleo_mix_max = 1.5\n",
    "DNA_max = 50\n",
    "\n",
    "promoter_max = 10\n",
    "RBS_max = 10"
   ]
  },
  {
   "cell_type": "code",
   "execution_count": 48,
   "id": "421a034b-82af-44a4-95a0-ea80ab122c35",
   "metadata": {},
   "outputs": [],
   "source": [
    "# Volume required and stocks - calculated for compatibility with 2.5 nL nanodrops of the ECHO\n",
    "vol_max = 10.5\n",
    "\n",
    "n = 5  # Number of drops at minimal concentration. We chose to have at least 5 drops even at minimal concentration.\n",
    "\n",
    "stock_extract = 89.5\n",
    "stock_mg_gluta = 168\n",
    "stock_K_gluta = 3360\n",
    "stock_aa = 6\n",
    "stock_peg = 40\n",
    "stock_hepes = 2100\n",
    "stock_trna = 84/n\n",
    "stock_coa = 109.2/n\n",
    "stock_nad = 138.6/n\n",
    "stock_camp = 315/n\n",
    "stock_folinic_acid = 28.56/n\n",
    "stock_spermidine = 420/n\n",
    "stock_pga = 1400\n",
    "stock_nucleo = 630/n\n",
    "stock_dna = 300"
   ]
  },
  {
   "cell_type": "code",
   "execution_count": null,
   "id": "c81ee1a7-2273-4719-9e7d-c252d87dca7b",
   "metadata": {},
   "outputs": [],
   "source": []
  },
  {
   "cell_type": "code",
   "execution_count": 49,
   "id": "2abed721-b895-4269-be78-90f15dbf93ff",
   "metadata": {},
   "outputs": [],
   "source": [
    "#Defining control samples (maximum and autofluorescence)"
   ]
  },
  {
   "cell_type": "code",
   "execution_count": 50,
   "id": "f7687c82-e214-47cf-ac51-bcb82c2bd605",
   "metadata": {},
   "outputs": [],
   "source": [
    "# Creating maximum extract:\n",
    "maximum_extract = np.ones((1, 17), dtype = 'int')\n",
    "\n",
    "max_sample_conc = [maximum_extract[0,0] * extract_max,\n",
    "                   maximum_extract[0,1] * mg_gluta_max, \n",
    "                   maximum_extract[0,2] * K_gluta_max, \n",
    "                   maximum_extract[0,3] * aa_max, \n",
    "                   maximum_extract[0,4] * peg_max, \n",
    "                   maximum_extract[0,5] * hepes_max, \n",
    "                   maximum_extract[0,6] * trna_max, \n",
    "                   maximum_extract[0,7] * coa_max, \n",
    "                   maximum_extract[0,8] * nad_max, \n",
    "                   maximum_extract[0,9] * camp_max, \n",
    "                   maximum_extract[0,10] * folinic_acid_max,\n",
    "                   maximum_extract[0,11] * spemidine_max, \n",
    "                   maximum_extract[0,12] * pga_max, \n",
    "                   maximum_extract[0,13]* nucleo_mix_max,\n",
    "                   maximum_extract[0,14]* DNA_max,\n",
    "                   maximum_extract[0,15]* promoter_max,\n",
    "                   maximum_extract[0,16]* RBS_max\n",
    "                  ]"
   ]
  },
  {
   "cell_type": "code",
   "execution_count": 19,
   "id": "37f95c52-344a-4631-b581-9983f9699a03",
   "metadata": {},
   "outputs": [
    {
     "name": "stdout",
     "output_type": "stream",
     "text": [
      "[30, 4, 80, 1.5, 2, 50, 0.2, 0.26, 0.33, 0.75, 0.068, 1, 30, 1.5, 50, 10, 10]\n"
     ]
    }
   ],
   "source": [
    "print(max_sample_conc)"
   ]
  },
  {
   "cell_type": "code",
   "execution_count": null,
   "id": "5d6a1491-4ab4-4d40-8960-bd4cea0f400f",
   "metadata": {},
   "outputs": [],
   "source": []
  },
  {
   "cell_type": "code",
   "execution_count": 51,
   "id": "31006b81-69df-4a7b-bb7c-db6fd499d3d8",
   "metadata": {},
   "outputs": [],
   "source": [
    "# Creating autofluorescence extract extract:\n",
    "autofluorescence_extract = np.ones((1, 17), dtype = 'int')\n",
    "\n",
    "autofluorescence_sample_conc = [autofluorescence_extract[0,0] * extract_max,\n",
    "                               autofluorescence_extract[0,1] * mg_gluta_max, \n",
    "                               autofluorescence_extract[0,2] * K_gluta_max, \n",
    "                               autofluorescence_extract[0,3] * aa_max, \n",
    "                               autofluorescence_extract[0,4] * peg_max, \n",
    "                               autofluorescence_extract[0,5] * hepes_max, \n",
    "                               autofluorescence_extract[0,6] * trna_max, \n",
    "                               autofluorescence_extract[0,7] * coa_max, \n",
    "                               autofluorescence_extract[0,8] * nad_max, \n",
    "                               autofluorescence_extract[0,9] * camp_max, \n",
    "                               autofluorescence_extract[0,10] * folinic_acid_max,\n",
    "                               autofluorescence_extract[0,11] * spemidine_max, \n",
    "                               autofluorescence_extract[0,12] * pga_max, \n",
    "                               autofluorescence_extract[0,13]* nucleo_mix_max,\n",
    "                               autofluorescence_extract[0,14]* 0,  # No DNA in the autofluorescence control\n",
    "                   autofluorescence_extract[0,15]* promoter_max,\n",
    "                   autofluorescence_extract[0,16]* RBS_max]"
   ]
  },
  {
   "cell_type": "code",
   "execution_count": 52,
   "id": "c1e433f2-efd1-4363-a6d1-b7b618632dec",
   "metadata": {},
   "outputs": [],
   "source": [
    "max_sample_conc = np.reshape(max_sample_conc, (1, 17))\n",
    "\n",
    "autofluorescence_sample_conc = np.asarray(autofluorescence_sample_conc)\n",
    "autofluorescence_sample_conc = np.reshape(autofluorescence_sample_conc, (1, 17))\n",
    "\n",
    "ctrl_array = max_sample_conc\n",
    "ctrl_array = np.concatenate((ctrl_array, autofluorescence_sample_conc), axis = 0)"
   ]
  },
  {
   "cell_type": "code",
   "execution_count": 30,
   "id": "493002eb-0f01-462e-a7ae-d95d5ced2be5",
   "metadata": {},
   "outputs": [
    {
     "name": "stdout",
     "output_type": "stream",
     "text": [
      "[[3.0e+01 4.0e+00 8.0e+01 1.5e+00 2.0e+00 5.0e+01 2.0e-01 2.6e-01 3.3e-01\n",
      "  7.5e-01 6.8e-02 1.0e+00 3.0e+01 1.5e+00 5.0e+01 1.0e+01 1.0e+01]\n",
      " [3.0e+01 4.0e+00 8.0e+01 1.5e+00 2.0e+00 5.0e+01 2.0e-01 2.6e-01 3.3e-01\n",
      "  7.5e-01 6.8e-02 1.0e+00 3.0e+01 1.5e+00 0.0e+00 1.0e+01 1.0e+01]]\n"
     ]
    }
   ],
   "source": [
    "print(ctrl_array)"
   ]
  },
  {
   "cell_type": "code",
   "execution_count": 10,
   "id": "8deb5962-1354-4f4c-954e-83003b01b72a",
   "metadata": {},
   "outputs": [
    {
     "name": "stdout",
     "output_type": "stream",
     "text": [
      "[[3.0e+01 4.0e+00 8.0e+01 1.5e+00 2.0e+00 5.0e+01 2.0e-01 2.6e-01 3.3e-01\n",
      "  7.5e-01 6.8e-02 1.0e+00 3.0e+01 1.5e+00 5.0e+01 1.0e+01 1.0e+01]]\n"
     ]
    }
   ],
   "source": [
    "print(max_sample_conc)"
   ]
  },
  {
   "cell_type": "code",
   "execution_count": null,
   "id": "00474aa7-2d3f-49fa-a157-b11a3ef820f8",
   "metadata": {},
   "outputs": [],
   "source": []
  },
  {
   "cell_type": "code",
   "execution_count": null,
   "id": "5d488d09-7baf-486c-ba22-fb2e764bd268",
   "metadata": {},
   "outputs": [],
   "source": [
    "#defineing all max except one low plus max"
   ]
  },
  {
   "cell_type": "code",
   "execution_count": 53,
   "id": "df701d04-9bbf-45bd-ba69-7e5a6499cd94",
   "metadata": {},
   "outputs": [],
   "source": [
    "all_max_except_one_low = max_sample_conc"
   ]
  },
  {
   "cell_type": "code",
   "execution_count": 54,
   "id": "b52a6b03-2dcd-4656-a30f-965774cd1f6d",
   "metadata": {},
   "outputs": [],
   "source": [
    "extract = extract_conc[0]\n",
    "peg = peg_conc[0]\n",
    "hepes = hepes_conc[0]\n",
    "dna = DNA_mix[1]\n",
    "promoter = promoter_conc[0]\n",
    "RBS = RBS_conc[0]\n",
    "\n",
    "\n",
    "mg_gluta = mg_gluta_conc[-1]\n",
    "K_gluta = K_gluta_conc[-1]\n",
    "aa = aa_conc[-1]\n",
    "trna = trna_conc[-1]\n",
    "coa = coa_conc[-1]\n",
    "nad = nad_conc[-1]\n",
    "camp = camp_conc[-1]\n",
    "folinic_acid = folinic_acid_conc[-1]\n",
    "spermidine = spermidine_conc[-1]\n",
    "pga = pga_conc[-1]\n",
    "nucleo = nucleo_conc[-1]"
   ]
  },
  {
   "cell_type": "code",
   "execution_count": 55,
   "id": "aa555b3d-a4c8-41ad-9ced-80822ba34f1d",
   "metadata": {},
   "outputs": [],
   "source": [
    "this_sample_conc = [extract * extract_max,\n",
    "                   0.1 * mg_gluta_max, \n",
    "                   K_gluta * K_gluta_max, \n",
    "                   aa * aa_max, \n",
    "                   peg * peg_max, \n",
    "                   hepes * hepes_max,  \n",
    "                   trna * trna_max, \n",
    "                   coa * coa_max, \n",
    "                   nad * nad_max,\n",
    "                   camp * camp_max,\n",
    "                   folinic_acid * folinic_acid_max,\n",
    "                   spermidine * spemidine_max, \n",
    "                   pga * pga_max,\n",
    "                   nucleo * nucleo_mix_max,\n",
    "                   dna * DNA_max,  \n",
    "                   promoter * promoter_max,  \n",
    "                   RBS * RBS_max] \n",
    "this_sample_conc = np.reshape(this_sample_conc, (1, 17)) \n",
    "all_max_except_one_low = np.concatenate((all_max_except_one_low, this_sample_conc), axis = 0)"
   ]
  },
  {
   "cell_type": "code",
   "execution_count": 15,
   "id": "8aca63de-9716-4199-a208-88b888184bc8",
   "metadata": {},
   "outputs": [
    {
     "data": {
      "text/plain": [
       "array([[3.0e+01, 4.0e+00, 8.0e+01, 1.5e+00, 2.0e+00, 5.0e+01, 2.0e-01,\n",
       "        2.6e-01, 3.3e-01, 7.5e-01, 6.8e-02, 1.0e+00, 3.0e+01, 1.5e+00,\n",
       "        5.0e+01, 1.0e+01, 1.0e+01],\n",
       "       [3.0e+01, 4.0e-01, 8.0e+01, 1.5e+00, 2.0e+00, 5.0e+01, 2.0e-01,\n",
       "        2.6e-01, 3.3e-01, 7.5e-01, 6.8e-02, 1.0e+00, 3.0e+01, 1.5e+00,\n",
       "        5.0e+01, 1.0e+01, 1.0e+01]])"
      ]
     },
     "execution_count": 15,
     "metadata": {},
     "output_type": "execute_result"
    }
   ],
   "source": [
    "all_max_except_one_low"
   ]
  },
  {
   "cell_type": "code",
   "execution_count": 56,
   "id": "b548b336-5389-41d0-80ab-27e0cf970280",
   "metadata": {},
   "outputs": [],
   "source": [
    "this_sample_conc = [extract * extract_max, \n",
    "                   mg_gluta * mg_gluta_max, \n",
    "                   0.1 * K_gluta_max, \n",
    "                   aa * aa_max, \n",
    "                   peg * peg_max,   \n",
    "                   hepes * hepes_max, \n",
    "                   trna * trna_max, \n",
    "                   coa * coa_max, \n",
    "                   nad * nad_max,\n",
    "                   camp * camp_max,\n",
    "                   folinic_acid * folinic_acid_max,\n",
    "                   spermidine * spemidine_max, \n",
    "                   pga * pga_max,\n",
    "                   nucleo * nucleo_mix_max,\n",
    "                   dna * DNA_max, \n",
    "                   promoter * promoter_max,  \n",
    "                   RBS * RBS_max] \n",
    "this_sample_conc = np.reshape(this_sample_conc, (1, 17)) \n",
    "all_max_except_one_low = np.concatenate((all_max_except_one_low, this_sample_conc), axis = 0)"
   ]
  },
  {
   "cell_type": "code",
   "execution_count": 57,
   "id": "3270f31e-1a35-4fb5-b4d1-fb4fbcf3f50e",
   "metadata": {},
   "outputs": [],
   "source": [
    "this_sample_conc = [extract * extract_max,  \n",
    "                   mg_gluta * mg_gluta_max, \n",
    "                   K_gluta * K_gluta_max, \n",
    "                   0.1 * aa_max, \n",
    "                   peg * peg_max,    \n",
    "                   hepes * hepes_max,  \n",
    "                   trna * trna_max, \n",
    "                   coa * coa_max, \n",
    "                   nad * nad_max,\n",
    "                   camp * camp_max,\n",
    "                   folinic_acid * folinic_acid_max,\n",
    "                   spermidine * spemidine_max, \n",
    "                   pga * pga_max,\n",
    "                   nucleo * nucleo_mix_max,\n",
    "                   dna * DNA_max,  \n",
    "                   promoter * promoter_max,  \n",
    "                   RBS * RBS_max]  \n",
    "this_sample_conc = np.reshape(this_sample_conc, (1, 17)) \n",
    "all_max_except_one_low = np.concatenate((all_max_except_one_low, this_sample_conc), axis = 0)\n"
   ]
  },
  {
   "cell_type": "code",
   "execution_count": 58,
   "id": "c89f80dc-8d49-40cb-821a-09194fe7d1b1",
   "metadata": {},
   "outputs": [],
   "source": [
    "this_sample_conc = [extract * extract_max,  \n",
    "                   mg_gluta * mg_gluta_max, \n",
    "                   K_gluta * K_gluta_max, \n",
    "                   aa * aa_max, \n",
    "                   peg * peg_max,    \n",
    "                   hepes * hepes_max, \n",
    "                   0.1 * trna_max, \n",
    "                   coa * coa_max, \n",
    "                   nad * nad_max,\n",
    "                   camp * camp_max,\n",
    "                   folinic_acid * folinic_acid_max,\n",
    "                   spermidine * spemidine_max, \n",
    "                   pga * pga_max,\n",
    "                   nucleo * nucleo_mix_max,\n",
    "                   dna * DNA_max,  \n",
    "                   promoter * promoter_max,  \n",
    "                   RBS * RBS_max]  \n",
    "this_sample_conc = np.reshape(this_sample_conc, (1, 17)) \n",
    "all_max_except_one_low = np.concatenate((all_max_except_one_low, this_sample_conc), axis = 0)\n"
   ]
  },
  {
   "cell_type": "code",
   "execution_count": 59,
   "id": "a39cdf25-1daf-44c0-bb82-d7b78aa0d358",
   "metadata": {},
   "outputs": [],
   "source": [
    "this_sample_conc = [extract * extract_max,  \n",
    "                  mg_gluta* mg_gluta_max, \n",
    "                   K_gluta * K_gluta_max, \n",
    "                   aa * aa_max, \n",
    "                   peg * peg_max,    \n",
    "                   hepes * hepes_max,   \n",
    "                   trna * trna_max, \n",
    "                   0.1 * coa_max, \n",
    "                   nad * nad_max,\n",
    "                   camp * camp_max,\n",
    "                   folinic_acid * folinic_acid_max,\n",
    "                   spermidine * spemidine_max, \n",
    "                   pga * pga_max,\n",
    "                   nucleo * nucleo_mix_max,\n",
    "                   dna * DNA_max, \n",
    "                   promoter * promoter_max,  \n",
    "                   RBS * RBS_max] \n",
    "this_sample_conc = np.reshape(this_sample_conc, (1, 17)) \n",
    "all_max_except_one_low = np.concatenate((all_max_except_one_low, this_sample_conc), axis = 0)\n"
   ]
  },
  {
   "cell_type": "code",
   "execution_count": 60,
   "id": "42c334f1-031c-4196-9008-97e4a3ab2f78",
   "metadata": {},
   "outputs": [],
   "source": [
    "this_sample_conc = [extract * extract_max, \n",
    "                   mg_gluta * mg_gluta_max, \n",
    "                   K_gluta * K_gluta_max, \n",
    "                   aa * aa_max, \n",
    "                   peg * peg_max,    \n",
    "                   hepes * hepes_max,  \n",
    "                   trna * trna_max, \n",
    "                   coa * coa_max, \n",
    "                   0.1 * nad_max,\n",
    "                   camp * camp_max,\n",
    "                   folinic_acid * folinic_acid_max,\n",
    "                   spermidine * spemidine_max, \n",
    "                   pga * pga_max,\n",
    "                   nucleo * nucleo_mix_max,\n",
    "                   dna * DNA_max,  \n",
    "                   promoter * promoter_max,\n",
    "                   RBS * RBS_max] \n",
    "this_sample_conc = np.reshape(this_sample_conc, (1, 17)) \n",
    "all_max_except_one_low = np.concatenate((all_max_except_one_low, this_sample_conc), axis = 0)\n"
   ]
  },
  {
   "cell_type": "code",
   "execution_count": 61,
   "id": "04281642-9c04-4728-b1a1-6c5a47a5374a",
   "metadata": {},
   "outputs": [],
   "source": [
    "this_sample_conc = [extract * extract_max,\n",
    "                   mg_gluta * mg_gluta_max, \n",
    "                   K_gluta * K_gluta_max, \n",
    "                   aa * aa_max, \n",
    "                   peg * peg_max,   \n",
    "                   hepes * hepes_max,   \n",
    "                   trna * trna_max, \n",
    "                   coa * coa_max, \n",
    "                   nad * nad_max,\n",
    "                   0.1 * camp_max,\n",
    "                   folinic_acid * folinic_acid_max,\n",
    "                   spermidine * spemidine_max, \n",
    "                   pga * pga_max,\n",
    "                   nucleo * nucleo_mix_max,\n",
    "                   dna * DNA_max, \n",
    "                   promoter * promoter_max, \n",
    "                   RBS * RBS_max]\n",
    "this_sample_conc = np.reshape(this_sample_conc, (1, 17)) \n",
    "all_max_except_one_low = np.concatenate((all_max_except_one_low, this_sample_conc), axis = 0)\n"
   ]
  },
  {
   "cell_type": "code",
   "execution_count": 62,
   "id": "1f85e271-acb9-4026-b55f-6e607e13e565",
   "metadata": {},
   "outputs": [],
   "source": [
    "this_sample_conc = [extract * extract_max, \n",
    "                   mg_gluta * mg_gluta_max, \n",
    "                   K_gluta * K_gluta_max, \n",
    "                   aa * aa_max, \n",
    "                   peg * peg_max,   \n",
    "                   hepes * hepes_max, \n",
    "                   trna * trna_max, \n",
    "                   coa * coa_max, \n",
    "                   nad * nad_max,\n",
    "                   camp * camp_max,\n",
    "                   0.1 * folinic_acid_max,\n",
    "                   spermidine * spemidine_max, \n",
    "                   pga * pga_max,\n",
    "                   nucleo * nucleo_mix_max,\n",
    "                   dna * DNA_max, \n",
    "                   promoter * promoter_max, \n",
    "                   RBS * RBS_max] \n",
    "this_sample_conc = np.reshape(this_sample_conc, (1, 17)) \n",
    "all_max_except_one_low = np.concatenate((all_max_except_one_low, this_sample_conc), axis = 0)"
   ]
  },
  {
   "cell_type": "code",
   "execution_count": 63,
   "id": "2de06345-d115-4fe7-b2f4-bbb4589a82dd",
   "metadata": {},
   "outputs": [],
   "source": [
    "this_sample_conc = [extract * extract_max,\n",
    "                   mg_gluta * mg_gluta_max, \n",
    "                   K_gluta * K_gluta_max, \n",
    "                   aa * aa_max, \n",
    "                   peg * peg_max,   \n",
    "                   hepes * hepes_max, \n",
    "                   trna * trna_max, \n",
    "                   coa * coa_max, \n",
    "                   nad * nad_max,\n",
    "                   camp * camp_max,\n",
    "                   folinic_acid * folinic_acid_max,\n",
    "                   0.1 * spemidine_max, \n",
    "                   pga * pga_max,\n",
    "                   nucleo * nucleo_mix_max,\n",
    "                   dna * DNA_max, \n",
    "                   promoter * promoter_max,  \n",
    "                   RBS * RBS_max]  \n",
    "this_sample_conc = np.reshape(this_sample_conc, (1, 17)) \n",
    "all_max_except_one_low = np.concatenate((all_max_except_one_low, this_sample_conc), axis = 0)\n"
   ]
  },
  {
   "cell_type": "code",
   "execution_count": 64,
   "id": "70b98ae8-1a9c-4b3f-afea-87260d18db92",
   "metadata": {},
   "outputs": [],
   "source": [
    "this_sample_conc = [extract * extract_max, \n",
    "                   mg_gluta * mg_gluta_max, \n",
    "                   K_gluta * K_gluta_max, \n",
    "                   aa * aa_max, \n",
    "                   peg * peg_max,   \n",
    "                   hepes * hepes_max,   \n",
    "                   trna * trna_max, \n",
    "                   coa * coa_max, \n",
    "                   nad * nad_max,\n",
    "                   camp * camp_max,\n",
    "                   folinic_acid * folinic_acid_max,\n",
    "                   spermidine * spemidine_max, \n",
    "                   0.1 * pga_max,\n",
    "                   nucleo * nucleo_mix_max,\n",
    "                   dna * DNA_max,  \n",
    "                   promoter * promoter_max,  \n",
    "                   RBS * RBS_max]  \n",
    "this_sample_conc = np.reshape(this_sample_conc, (1, 17)) \n",
    "all_max_except_one_low = np.concatenate((all_max_except_one_low, this_sample_conc), axis = 0)\n"
   ]
  },
  {
   "cell_type": "code",
   "execution_count": 65,
   "id": "b69629be-6ec5-4421-a6a9-c7c9f89ebc3b",
   "metadata": {},
   "outputs": [],
   "source": [
    "this_sample_conc = [extract * extract_max,\n",
    "                   mg_gluta * mg_gluta_max, \n",
    "                   K_gluta * K_gluta_max, \n",
    "                   aa * aa_max, \n",
    "                   peg * peg_max,   \n",
    "                   hepes * hepes_max,  \n",
    "                   trna * trna_max, \n",
    "                   coa * coa_max, \n",
    "                   nad * nad_max,\n",
    "                   camp * camp_max,\n",
    "                   folinic_acid * folinic_acid_max,\n",
    "                   spermidine * spemidine_max, \n",
    "                   pga * pga_max,\n",
    "                   0.1 * nucleo_mix_max,\n",
    "                   dna * DNA_max,  \n",
    "                   promoter * promoter_max,\n",
    "                   RBS * RBS_max] \n",
    "this_sample_conc = np.reshape(this_sample_conc, (1, 17)) \n",
    "all_max_except_one_low = np.concatenate((all_max_except_one_low, this_sample_conc), axis = 0)\n"
   ]
  },
  {
   "cell_type": "code",
   "execution_count": 66,
   "id": "18a45894-3a35-4c23-9b0f-c50055b4b6a4",
   "metadata": {},
   "outputs": [],
   "source": [
    "this_sample_conc = [extract * extract_max,\n",
    "                   mg_gluta * mg_gluta_max, \n",
    "                   K_gluta * K_gluta_max, \n",
    "                   aa * aa_max, \n",
    "                   peg * peg_max,   \n",
    "                   hepes * hepes_max,  \n",
    "                   trna * trna_max, \n",
    "                   coa * coa_max, \n",
    "                   nad * nad_max,\n",
    "                   camp * camp_max,\n",
    "                   folinic_acid * folinic_acid_max,\n",
    "                   spermidine * spemidine_max, \n",
    "                   pga * pga_max,\n",
    "                   0.3 * nucleo_mix_max,\n",
    "                   dna * DNA_max,  \n",
    "                   promoter * promoter_max,  \n",
    "                   RBS * RBS_max]\n",
    "this_sample_conc = np.reshape(this_sample_conc, (1, 17)) \n",
    "all_max_except_one_low = np.concatenate((all_max_except_one_low, this_sample_conc), axis = 0)\n"
   ]
  },
  {
   "cell_type": "code",
   "execution_count": 67,
   "id": "8d27391d-5673-422c-ac7f-bd5a9a12e05d",
   "metadata": {},
   "outputs": [
    {
     "name": "stdout",
     "output_type": "stream",
     "text": [
      "(13, 17)\n"
     ]
    }
   ],
   "source": [
    "print(all_max_except_one_low.shape)"
   ]
  },
  {
   "cell_type": "code",
   "execution_count": null,
   "id": "f8edbcbf-1dea-4767-97ba-8a091f696ec1",
   "metadata": {},
   "outputs": [],
   "source": []
  },
  {
   "cell_type": "code",
   "execution_count": 68,
   "id": "f39e9d69-164d-4fd3-b83e-e9e189c98bc1",
   "metadata": {},
   "outputs": [],
   "source": [
    "#Defining all min except one high plus min"
   ]
  },
  {
   "cell_type": "code",
   "execution_count": 69,
   "id": "7ad14163-9034-4125-b6dd-ed939089e2aa",
   "metadata": {},
   "outputs": [],
   "source": [
    "extract = extract_conc[0]\n",
    "peg = peg_conc[0]\n",
    "hepes = hepes_conc[0]\n",
    "dna = DNA_mix[1]\n",
    "promoter = promoter_conc[0]\n",
    "RBS = RBS_conc[0]\n",
    "\n",
    "\n",
    "mg_gluta = mg_gluta_conc[0]\n",
    "K_gluta = K_gluta_conc[0]\n",
    "aa = aa_conc[0]\n",
    "trna = trna_conc[0]\n",
    "coa = coa_conc[0]\n",
    "nad = nad_conc[0]\n",
    "camp = camp_conc[0]\n",
    "folinic_acid = folinic_acid_conc[0]\n",
    "spermidine = spermidine_conc[0]\n",
    "pga = pga_conc[0]\n",
    "nucleo = nucleo_conc[0]"
   ]
  },
  {
   "cell_type": "code",
   "execution_count": 70,
   "id": "a41a421b-81ba-4bae-8f50-e70e249377b6",
   "metadata": {},
   "outputs": [],
   "source": [
    "this_sample_conc = [extract * extract_max,\n",
    "                   mg_gluta * mg_gluta_max, \n",
    "                   K_gluta * K_gluta_max, \n",
    "                   aa * aa_max, \n",
    "                   peg * peg_max,  \n",
    "                   hepes * hepes_max,\n",
    "                   trna * trna_max, \n",
    "                   coa * coa_max, \n",
    "                   nad * nad_max,\n",
    "                   camp * camp_max,\n",
    "                   folinic_acid * folinic_acid_max,\n",
    "                   spermidine * spemidine_max, \n",
    "                   pga * pga_max,\n",
    "                   nucleo * nucleo_mix_max,\n",
    "                   dna * DNA_max, \n",
    "                   promoter * promoter_max,\n",
    "                   RBS * RBS_max] \n",
    "this_sample_conc = np.reshape(this_sample_conc, (1, 17)) \n",
    "\n",
    "all_min_except_high = this_sample_conc"
   ]
  },
  {
   "cell_type": "code",
   "execution_count": 71,
   "id": "33d297f9-3ada-45cb-881c-819a92fac0fe",
   "metadata": {},
   "outputs": [],
   "source": [
    "this_sample_conc = [extract * extract_max,\n",
    "                   1 * mg_gluta_max, \n",
    "                   K_gluta * K_gluta_max, \n",
    "                   aa * aa_max, \n",
    "                   peg * peg_max, \n",
    "                   hepes * hepes_max,\n",
    "                   trna * trna_max, \n",
    "                   coa * coa_max, \n",
    "                   nad * nad_max,\n",
    "                   camp * camp_max,\n",
    "                   folinic_acid * folinic_acid_max,\n",
    "                   spermidine * spemidine_max, \n",
    "                   pga * pga_max,\n",
    "                   nucleo * nucleo_mix_max,\n",
    "                   dna * DNA_max, \n",
    "                   promoter * promoter_max, \n",
    "                   RBS * RBS_max] \n",
    "this_sample_conc = np.reshape(this_sample_conc, (1, 17)) \n",
    "all_min_except_high = np.concatenate((all_min_except_high, this_sample_conc), axis = 0)"
   ]
  },
  {
   "cell_type": "code",
   "execution_count": 72,
   "id": "84a25139-9a45-4188-8d3a-c93269570500",
   "metadata": {},
   "outputs": [],
   "source": [
    "this_sample_conc = [extract * extract_max,\n",
    "                   mg_gluta * mg_gluta_max, \n",
    "                   1 * K_gluta_max, \n",
    "                   aa * aa_max, \n",
    "                   peg * peg_max,  \n",
    "                   hepes * hepes_max,\n",
    "                   trna * trna_max, \n",
    "                   coa * coa_max, \n",
    "                   nad * nad_max,\n",
    "                   camp * camp_max,\n",
    "                   folinic_acid * folinic_acid_max,\n",
    "                   spermidine * spemidine_max, \n",
    "                   pga * pga_max,\n",
    "                   nucleo * nucleo_mix_max,\n",
    "                   dna * DNA_max,\n",
    "                   promoter * promoter_max,\n",
    "                   RBS * RBS_max]\n",
    "this_sample_conc = np.reshape(this_sample_conc, (1, 17)) \n",
    "all_min_except_high = np.concatenate((all_min_except_high, this_sample_conc), axis = 0)"
   ]
  },
  {
   "cell_type": "code",
   "execution_count": 73,
   "id": "f33d6fed-576e-4ebe-8909-2e5187a9e059",
   "metadata": {},
   "outputs": [],
   "source": [
    "this_sample_conc = [extract * extract_max,\n",
    "                   mg_gluta * mg_gluta_max, \n",
    "                   K_gluta * K_gluta_max, \n",
    "                   1 * aa_max, \n",
    "                   peg * peg_max, \n",
    "                   hepes * hepes_max,  \n",
    "                   trna * trna_max, \n",
    "                   coa * coa_max, \n",
    "                   nad * nad_max,\n",
    "                   camp * camp_max,\n",
    "                   folinic_acid * folinic_acid_max,\n",
    "                   spermidine * spemidine_max, \n",
    "                   pga * pga_max,\n",
    "                   nucleo * nucleo_mix_max,\n",
    "                   dna * DNA_max, \n",
    "                   promoter * promoter_max, \n",
    "                   RBS * RBS_max]  \n",
    "this_sample_conc = np.reshape(this_sample_conc, (1, 17)) \n",
    "all_min_except_high = np.concatenate((all_min_except_high, this_sample_conc), axis = 0)"
   ]
  },
  {
   "cell_type": "code",
   "execution_count": 74,
   "id": "5ebad8da-adcb-445d-8324-5eb087495ae3",
   "metadata": {},
   "outputs": [],
   "source": [
    "this_sample_conc = [extract * extract_max, \n",
    "                   mg_gluta * mg_gluta_max, \n",
    "                   K_gluta * K_gluta_max, \n",
    "                   aa * aa_max, \n",
    "                   peg * peg_max,  \n",
    "                   hepes * hepes_max,\n",
    "                   1 * trna_max, \n",
    "                   coa * coa_max, \n",
    "                   nad * nad_max,\n",
    "                   camp * camp_max,\n",
    "                   folinic_acid * folinic_acid_max,\n",
    "                   spermidine * spemidine_max, \n",
    "                   pga * pga_max,\n",
    "                   nucleo * nucleo_mix_max,\n",
    "                   dna * DNA_max,\n",
    "                   promoter * promoter_max,\n",
    "                   RBS * RBS_max]\n",
    "this_sample_conc = np.reshape(this_sample_conc, (1, 17)) \n",
    "all_min_except_high = np.concatenate((all_min_except_high, this_sample_conc), axis = 0)"
   ]
  },
  {
   "cell_type": "code",
   "execution_count": 75,
   "id": "8be3ab65-bcb5-432b-b202-a084997637bd",
   "metadata": {},
   "outputs": [],
   "source": [
    "this_sample_conc = [extract * extract_max,\n",
    "                  mg_gluta* mg_gluta_max, \n",
    "                   K_gluta * K_gluta_max, \n",
    "                   aa * aa_max, \n",
    "                   peg * peg_max, \n",
    "                   hepes * hepes_max,  \n",
    "                   trna * trna_max, \n",
    "                   1 * coa_max, \n",
    "                   nad * nad_max,\n",
    "                   camp * camp_max,\n",
    "                   folinic_acid * folinic_acid_max,\n",
    "                   spermidine * spemidine_max, \n",
    "                   pga * pga_max,\n",
    "                   nucleo * nucleo_mix_max,\n",
    "                   dna * DNA_max,\n",
    "                   promoter * promoter_max, \n",
    "                   RBS * RBS_max] \n",
    "this_sample_conc = np.reshape(this_sample_conc, (1, 17)) \n",
    "all_min_except_high = np.concatenate((all_min_except_high, this_sample_conc), axis = 0)"
   ]
  },
  {
   "cell_type": "code",
   "execution_count": 76,
   "id": "4836ac52-e21a-40d0-91ac-90fdc0e0029c",
   "metadata": {},
   "outputs": [],
   "source": [
    "this_sample_conc = [extract * extract_max,\n",
    "                   mg_gluta * mg_gluta_max, \n",
    "                   K_gluta * K_gluta_max, \n",
    "                   aa * aa_max, \n",
    "                   peg * peg_max, \n",
    "                   hepes * hepes_max,  \n",
    "                   trna * trna_max, \n",
    "                   coa * coa_max, \n",
    "                   1 * nad_max,\n",
    "                   camp * camp_max,\n",
    "                   folinic_acid * folinic_acid_max,\n",
    "                   spermidine * spemidine_max, \n",
    "                   pga * pga_max,\n",
    "                   nucleo * nucleo_mix_max,\n",
    "                   dna * DNA_max,\n",
    "                   promoter * promoter_max,\n",
    "                   RBS * RBS_max]\n",
    "this_sample_conc = np.reshape(this_sample_conc, (1, 17)) \n",
    "all_min_except_high = np.concatenate((all_min_except_high, this_sample_conc), axis = 0)"
   ]
  },
  {
   "cell_type": "code",
   "execution_count": 77,
   "id": "9ad000fd-d929-4918-b683-2cd94fb38437",
   "metadata": {},
   "outputs": [],
   "source": [
    "this_sample_conc = [extract * extract_max,\n",
    "                   mg_gluta * mg_gluta_max, \n",
    "                   K_gluta * K_gluta_max, \n",
    "                   aa * aa_max, \n",
    "                   peg * peg_max,\n",
    "                   hepes * hepes_max,\n",
    "                   trna * trna_max, \n",
    "                   coa * coa_max, \n",
    "                   nad * nad_max,\n",
    "                   1 * camp_max,\n",
    "                   folinic_acid * folinic_acid_max,\n",
    "                   spermidine * spemidine_max, \n",
    "                   pga * pga_max,\n",
    "                   nucleo * nucleo_mix_max,\n",
    "                   dna * DNA_max,\n",
    "                   promoter * promoter_max, \n",
    "                   RBS * RBS_max]\n",
    "this_sample_conc = np.reshape(this_sample_conc, (1, 17)) \n",
    "all_min_except_high = np.concatenate((all_min_except_high, this_sample_conc), axis = 0)"
   ]
  },
  {
   "cell_type": "code",
   "execution_count": 78,
   "id": "eaf48340-98d3-4da8-abe2-f16320e951cd",
   "metadata": {},
   "outputs": [],
   "source": [
    "this_sample_conc = [extract * extract_max,\n",
    "                   mg_gluta * mg_gluta_max, \n",
    "                   K_gluta * K_gluta_max, \n",
    "                   aa * aa_max, \n",
    "                   peg * peg_max, \n",
    "                   hepes * hepes_max,\n",
    "                   trna * trna_max, \n",
    "                   coa * coa_max, \n",
    "                   nad * nad_max,\n",
    "                   camp * camp_max,\n",
    "                   1 * folinic_acid_max,\n",
    "                   spermidine * spemidine_max, \n",
    "                   pga * pga_max,\n",
    "                   nucleo * nucleo_mix_max,\n",
    "                   dna * DNA_max,\n",
    "                   promoter * promoter_max,\n",
    "                   RBS * RBS_max]\n",
    "this_sample_conc = np.reshape(this_sample_conc, (1, 17)) \n",
    "all_min_except_high = np.concatenate((all_min_except_high, this_sample_conc), axis = 0)"
   ]
  },
  {
   "cell_type": "code",
   "execution_count": 79,
   "id": "19f3961a-7e30-4029-878c-d09758b9abef",
   "metadata": {},
   "outputs": [],
   "source": [
    "this_sample_conc = [extract * extract_max,\n",
    "                   mg_gluta * mg_gluta_max, \n",
    "                   K_gluta * K_gluta_max, \n",
    "                   aa * aa_max, \n",
    "                   peg * peg_max,\n",
    "                   hepes * hepes_max,\n",
    "                   trna * trna_max, \n",
    "                   coa * coa_max, \n",
    "                   nad * nad_max,\n",
    "                   camp * camp_max,\n",
    "                   folinic_acid * folinic_acid_max,\n",
    "                   1 * spemidine_max, \n",
    "                   pga * pga_max,\n",
    "                   nucleo * nucleo_mix_max,\n",
    "                   dna * DNA_max,\n",
    "                   promoter * promoter_max,\n",
    "                   RBS * RBS_max] \n",
    "this_sample_conc = np.reshape(this_sample_conc, (1, 17)) \n",
    "all_min_except_high = np.concatenate((all_min_except_high, this_sample_conc), axis = 0)"
   ]
  },
  {
   "cell_type": "code",
   "execution_count": 80,
   "id": "8afac20b-0054-4a2c-a9ee-e40c7a5a11ca",
   "metadata": {},
   "outputs": [],
   "source": [
    "this_sample_conc = [extract * extract_max,\n",
    "                   mg_gluta * mg_gluta_max, \n",
    "                   K_gluta * K_gluta_max, \n",
    "                   aa * aa_max, \n",
    "                   peg * peg_max,\n",
    "                   hepes * hepes_max,\n",
    "                   trna * trna_max, \n",
    "                   coa * coa_max, \n",
    "                   nad * nad_max,\n",
    "                   camp * camp_max,\n",
    "                   folinic_acid * folinic_acid_max,\n",
    "                   spermidine * spemidine_max, \n",
    "                   1 * pga_max,\n",
    "                   nucleo * nucleo_mix_max,\n",
    "                   dna * DNA_max,\n",
    "                   promoter * promoter_max,\n",
    "                   RBS * RBS_max]\n",
    "this_sample_conc = np.reshape(this_sample_conc, (1, 17)) \n",
    "all_min_except_high = np.concatenate((all_min_except_high, this_sample_conc), axis = 0)\n"
   ]
  },
  {
   "cell_type": "code",
   "execution_count": 81,
   "id": "5f25d00e-bf5d-42a9-abfa-ad7472f44e30",
   "metadata": {},
   "outputs": [],
   "source": [
    "this_sample_conc = [extract * extract_max,\n",
    "                   mg_gluta * mg_gluta_max, \n",
    "                   K_gluta * K_gluta_max, \n",
    "                   aa * aa_max, \n",
    "                   peg * peg_max,  \n",
    "                   hepes * hepes_max, \n",
    "                   trna * trna_max, \n",
    "                   coa * coa_max, \n",
    "                   nad * nad_max,\n",
    "                   camp * camp_max,\n",
    "                   folinic_acid * folinic_acid_max,\n",
    "                   spermidine * spemidine_max, \n",
    "                   pga * pga_max,\n",
    "                   1 * nucleo_mix_max,\n",
    "                   dna * DNA_max,\n",
    "                   promoter * promoter_max,\n",
    "                   RBS * RBS_max] \n",
    "this_sample_conc = np.reshape(this_sample_conc, (1, 17)) \n",
    "all_min_except_high = np.concatenate((all_min_except_high, this_sample_conc), axis = 0)\n"
   ]
  },
  {
   "cell_type": "code",
   "execution_count": 82,
   "id": "acd00a44-6f00-463c-a833-17d4971cbf35",
   "metadata": {},
   "outputs": [
    {
     "name": "stdout",
     "output_type": "stream",
     "text": [
      "(12, 17)\n"
     ]
    }
   ],
   "source": [
    "print(all_min_except_high.shape)"
   ]
  },
  {
   "cell_type": "code",
   "execution_count": null,
   "id": "54952fda-04ea-4ea9-83c8-d50bac2b0a7e",
   "metadata": {},
   "outputs": [],
   "source": []
  },
  {
   "cell_type": "code",
   "execution_count": 83,
   "id": "f897b210-009b-4304-97a9-7737ae33e162",
   "metadata": {},
   "outputs": [],
   "source": [
    "#Filling the rest randomly"
   ]
  },
  {
   "cell_type": "code",
   "execution_count": 84,
   "id": "84d2e191-f941-410f-bd9f-88e553500d3a",
   "metadata": {},
   "outputs": [],
   "source": [
    "answer_array = np.concatenate((ctrl_array, all_max_except_one_low, all_min_except_high), axis = 0)"
   ]
  },
  {
   "cell_type": "code",
   "execution_count": 85,
   "id": "d285c5f3-b4d1-4539-a220-3aac6d0b3584",
   "metadata": {},
   "outputs": [
    {
     "name": "stdout",
     "output_type": "stream",
     "text": [
      "(27, 17)\n"
     ]
    }
   ],
   "source": [
    "print(answer_array.shape)"
   ]
  },
  {
   "cell_type": "code",
   "execution_count": 86,
   "id": "7765cfe1-cbf0-4f19-b990-934927ddcaf5",
   "metadata": {
    "collapsed": true,
    "jupyter": {
     "outputs_hidden": true
    },
    "tags": []
   },
   "outputs": [
    {
     "name": "stdout",
     "output_type": "stream",
     "text": [
      "[[3.0e+01 4.0e+00 8.0e+01 1.5e+00 2.0e+00 5.0e+01 2.0e-01 2.6e-01 3.3e-01\n",
      "  7.5e-01 6.8e-02 1.0e+00 3.0e+01 1.5e+00 5.0e+01 1.0e+01 1.0e+01]\n",
      " [3.0e+01 4.0e+00 8.0e+01 1.5e+00 2.0e+00 5.0e+01 2.0e-01 2.6e-01 3.3e-01\n",
      "  7.5e-01 6.8e-02 1.0e+00 3.0e+01 1.5e+00 0.0e+00 1.0e+01 1.0e+01]\n",
      " [3.0e+01 4.0e+00 8.0e+01 1.5e+00 2.0e+00 5.0e+01 2.0e-01 2.6e-01 3.3e-01\n",
      "  7.5e-01 6.8e-02 1.0e+00 3.0e+01 1.5e+00 5.0e+01 1.0e+01 1.0e+01]\n",
      " [3.0e+01 4.0e-01 8.0e+01 1.5e+00 2.0e+00 5.0e+01 2.0e-01 2.6e-01 3.3e-01\n",
      "  7.5e-01 6.8e-02 1.0e+00 3.0e+01 1.5e+00 5.0e+01 1.0e+01 1.0e+01]\n",
      " [3.0e+01 4.0e+00 8.0e+00 1.5e+00 2.0e+00 5.0e+01 2.0e-01 2.6e-01 3.3e-01\n",
      "  7.5e-01 6.8e-02 1.0e+00 3.0e+01 1.5e+00 5.0e+01 1.0e+01 1.0e+01]\n",
      " [3.0e+01 4.0e+00 8.0e+01 1.5e-01 2.0e+00 5.0e+01 2.0e-01 2.6e-01 3.3e-01\n",
      "  7.5e-01 6.8e-02 1.0e+00 3.0e+01 1.5e+00 5.0e+01 1.0e+01 1.0e+01]\n",
      " [3.0e+01 4.0e+00 8.0e+01 1.5e+00 2.0e+00 5.0e+01 2.0e-02 2.6e-01 3.3e-01\n",
      "  7.5e-01 6.8e-02 1.0e+00 3.0e+01 1.5e+00 5.0e+01 1.0e+01 1.0e+01]\n",
      " [3.0e+01 4.0e+00 8.0e+01 1.5e+00 2.0e+00 5.0e+01 2.0e-01 2.6e-02 3.3e-01\n",
      "  7.5e-01 6.8e-02 1.0e+00 3.0e+01 1.5e+00 5.0e+01 1.0e+01 1.0e+01]\n",
      " [3.0e+01 4.0e+00 8.0e+01 1.5e+00 2.0e+00 5.0e+01 2.0e-01 2.6e-01 3.3e-02\n",
      "  7.5e-01 6.8e-02 1.0e+00 3.0e+01 1.5e+00 5.0e+01 1.0e+01 1.0e+01]\n",
      " [3.0e+01 4.0e+00 8.0e+01 1.5e+00 2.0e+00 5.0e+01 2.0e-01 2.6e-01 3.3e-01\n",
      "  7.5e-02 6.8e-02 1.0e+00 3.0e+01 1.5e+00 5.0e+01 1.0e+01 1.0e+01]\n",
      " [3.0e+01 4.0e+00 8.0e+01 1.5e+00 2.0e+00 5.0e+01 2.0e-01 2.6e-01 3.3e-01\n",
      "  7.5e-01 6.8e-03 1.0e+00 3.0e+01 1.5e+00 5.0e+01 1.0e+01 1.0e+01]\n",
      " [3.0e+01 4.0e+00 8.0e+01 1.5e+00 2.0e+00 5.0e+01 2.0e-01 2.6e-01 3.3e-01\n",
      "  7.5e-01 6.8e-02 1.0e-01 3.0e+01 1.5e+00 5.0e+01 1.0e+01 1.0e+01]\n",
      " [3.0e+01 4.0e+00 8.0e+01 1.5e+00 2.0e+00 5.0e+01 2.0e-01 2.6e-01 3.3e-01\n",
      "  7.5e-01 6.8e-02 1.0e+00 3.0e+00 1.5e+00 5.0e+01 1.0e+01 1.0e+01]\n",
      " [3.0e+01 4.0e+00 8.0e+01 1.5e+00 2.0e+00 5.0e+01 2.0e-01 2.6e-01 3.3e-01\n",
      "  7.5e-01 6.8e-02 1.0e+00 3.0e+01 1.5e-01 5.0e+01 1.0e+01 1.0e+01]\n",
      " [3.0e+01 4.0e+00 8.0e+01 1.5e+00 2.0e+00 5.0e+01 2.0e-01 2.6e-01 3.3e-01\n",
      "  7.5e-01 6.8e-02 1.0e+00 3.0e+01 4.5e-01 5.0e+01 1.0e+01 1.0e+01]\n",
      " [3.0e+01 4.0e-01 8.0e+00 1.5e-01 2.0e+00 5.0e+01 2.0e-02 2.6e-02 3.3e-02\n",
      "  7.5e-02 6.8e-03 1.0e-01 3.0e+00 1.5e-01 5.0e+01 1.0e+01 1.0e+01]\n",
      " [3.0e+01 4.0e+00 8.0e+00 1.5e-01 2.0e+00 5.0e+01 2.0e-02 2.6e-02 3.3e-02\n",
      "  7.5e-02 6.8e-03 1.0e-01 3.0e+00 1.5e-01 5.0e+01 1.0e+01 1.0e+01]\n",
      " [3.0e+01 4.0e-01 8.0e+01 1.5e-01 2.0e+00 5.0e+01 2.0e-02 2.6e-02 3.3e-02\n",
      "  7.5e-02 6.8e-03 1.0e-01 3.0e+00 1.5e-01 5.0e+01 1.0e+01 1.0e+01]\n",
      " [3.0e+01 4.0e-01 8.0e+00 1.5e+00 2.0e+00 5.0e+01 2.0e-02 2.6e-02 3.3e-02\n",
      "  7.5e-02 6.8e-03 1.0e-01 3.0e+00 1.5e-01 5.0e+01 1.0e+01 1.0e+01]\n",
      " [3.0e+01 4.0e-01 8.0e+00 1.5e-01 2.0e+00 5.0e+01 2.0e-01 2.6e-02 3.3e-02\n",
      "  7.5e-02 6.8e-03 1.0e-01 3.0e+00 1.5e-01 5.0e+01 1.0e+01 1.0e+01]\n",
      " [3.0e+01 4.0e-01 8.0e+00 1.5e-01 2.0e+00 5.0e+01 2.0e-02 2.6e-01 3.3e-02\n",
      "  7.5e-02 6.8e-03 1.0e-01 3.0e+00 1.5e-01 5.0e+01 1.0e+01 1.0e+01]\n",
      " [3.0e+01 4.0e-01 8.0e+00 1.5e-01 2.0e+00 5.0e+01 2.0e-02 2.6e-02 3.3e-01\n",
      "  7.5e-02 6.8e-03 1.0e-01 3.0e+00 1.5e-01 5.0e+01 1.0e+01 1.0e+01]\n",
      " [3.0e+01 4.0e-01 8.0e+00 1.5e-01 2.0e+00 5.0e+01 2.0e-02 2.6e-02 3.3e-02\n",
      "  7.5e-01 6.8e-03 1.0e-01 3.0e+00 1.5e-01 5.0e+01 1.0e+01 1.0e+01]\n",
      " [3.0e+01 4.0e-01 8.0e+00 1.5e-01 2.0e+00 5.0e+01 2.0e-02 2.6e-02 3.3e-02\n",
      "  7.5e-02 6.8e-02 1.0e-01 3.0e+00 1.5e-01 5.0e+01 1.0e+01 1.0e+01]\n",
      " [3.0e+01 4.0e-01 8.0e+00 1.5e-01 2.0e+00 5.0e+01 2.0e-02 2.6e-02 3.3e-02\n",
      "  7.5e-02 6.8e-03 1.0e+00 3.0e+00 1.5e-01 5.0e+01 1.0e+01 1.0e+01]\n",
      " [3.0e+01 4.0e-01 8.0e+00 1.5e-01 2.0e+00 5.0e+01 2.0e-02 2.6e-02 3.3e-02\n",
      "  7.5e-02 6.8e-03 1.0e-01 3.0e+01 1.5e-01 5.0e+01 1.0e+01 1.0e+01]\n",
      " [3.0e+01 4.0e-01 8.0e+00 1.5e-01 2.0e+00 5.0e+01 2.0e-02 2.6e-02 3.3e-02\n",
      "  7.5e-02 6.8e-03 1.0e-01 3.0e+00 1.5e+00 5.0e+01 1.0e+01 1.0e+01]]\n"
     ]
    }
   ],
   "source": [
    "print(answer_array)"
   ]
  },
  {
   "cell_type": "code",
   "execution_count": 87,
   "id": "52f5ebdf-5c41-4b63-b281-ada5260b7843",
   "metadata": {},
   "outputs": [],
   "source": [
    "def present_in_array_index(new_sample, array):\n",
    "    \"\"\"\n",
    "    Verify if a sample is present in an array.\n",
    "    new_sampleには（1,17）の形で入ってくる\n",
    "    \"\"\"\n",
    "    if array is None:\n",
    "        return(False, -1)\n",
    "    present = False\n",
    "    \n",
    "    #[[1,2,3,......]]の形に変換\n",
    "    new_sample = np.reshape(np.array(new_sample), (1,17))\n",
    "    for i in range(array.shape[0]):\n",
    "        if np.array_equiv(array[i,:],new_sample):\n",
    "            present = True\n",
    "            break   \n",
    "    return(present, i)\n"
   ]
  },
  {
   "cell_type": "code",
   "execution_count": 88,
   "id": "af97950e-ab39-4f5f-882b-e01ddb3c7e8f",
   "metadata": {},
   "outputs": [],
   "source": [
    "def generate_random_grid(array_to_avoid, sample_size = 100):\n",
    "    active_learning_array = array_to_avoid\n",
    "    if array_to_avoid is None:\n",
    "        answerSize = 0\n",
    "    else:\n",
    "        #answerSizeはarray to avoidのの行数のこと\n",
    "        answerSize = active_learning_array.shape[0]\n",
    "    # Reagents not allowed to vary\n",
    "    extract = extract_conc[0]\n",
    "    peg = peg_conc[0]\n",
    "    hepes = hepes_conc[0]\n",
    "    dna = DNA_mix[1]\n",
    "    promoter = promoter_conc[0]\n",
    "    RBS = RBS_conc[0]\n",
    "\n",
    "    while answerSize < sample_size:\n",
    "        this_sample = np.random.randint(0, high=3, size=11, dtype='int')\n",
    "        this_sample_conc = [extract * extract_max,\n",
    "                            mg_gluta_conc[this_sample[0]] * mg_gluta_max, \n",
    "                            K_gluta_conc[this_sample[1]] * K_gluta_max, \n",
    "                            aa_conc[this_sample[2]] * aa_max, \n",
    "                            peg * peg_max, \n",
    "                            hepes * hepes_max, \n",
    "                            trna_conc[this_sample[3]] * trna_max, \n",
    "                            coa_conc[this_sample[4]] * coa_max, \n",
    "                            nad_conc[this_sample[5]] * nad_max, \n",
    "                            camp_conc[this_sample[6]] * camp_max, \n",
    "                            folinic_acid_conc[this_sample[7]] * folinic_acid_max,\n",
    "                            spermidine_conc[this_sample[8]] * spemidine_max, \n",
    "                            pga_conc[this_sample[9]] * pga_max, \n",
    "                            nucleo_conc[this_sample[10]] * nucleo_mix_max,\n",
    "                            dna * DNA_max,  # not modified\n",
    "                            promoter * promoter_max,  # not modified\n",
    "                            RBS * RBS_max]\n",
    "        this_sample_conc = np.reshape(this_sample_conc, (1, 17))\n",
    "        if not present_in_array_index(this_sample_conc, active_learning_array)[0]:\n",
    "            answerSize = answerSize + 1\n",
    "            if active_learning_array is None:\n",
    "                active_learning_array = this_sample_conc\n",
    "            else:\n",
    "                active_learning_array = np.concatenate((active_learning_array, this_sample_conc), axis = 0)\n",
    "    return(active_learning_array)"
   ]
  },
  {
   "cell_type": "code",
   "execution_count": 89,
   "id": "a45d2631-92d5-43e0-a3f9-5978a96cef80",
   "metadata": {},
   "outputs": [],
   "source": [
    "answer_array = generate_random_grid(answer_array, sample_size = 102)"
   ]
  },
  {
   "cell_type": "code",
   "execution_count": 91,
   "id": "14e8e78e-9385-4103-85da-94edd846bb5b",
   "metadata": {},
   "outputs": [],
   "source": [
    "# Saving the data\n",
    "\n",
    "headers = \"extract; mg_gluta; K_gluta; aa; peg; hepes; trna; coa; nad; camp; folinic_acid; spemidin; pga; nucleo_mix; DNA; promoter; RBS\"\n",
    "\n",
    "np.savetxt(\"{}/initial_plate.csv\".format(data_folder), answer_array, delimiter=\";\", header = headers,fmt='%.5f')"
   ]
  },
  {
   "cell_type": "code",
   "execution_count": null,
   "id": "4b894ec7-249a-4464-8eff-a51d16124475",
   "metadata": {},
   "outputs": [],
   "source": []
  }
 ],
 "metadata": {
  "kernelspec": {
   "display_name": "default:Python",
   "language": "python",
   "name": "conda-env-default-py"
  },
  "language_info": {
   "codemirror_mode": {
    "name": "ipython",
    "version": 3
   },
   "file_extension": ".py",
   "mimetype": "text/x-python",
   "name": "python",
   "nbconvert_exporter": "python",
   "pygments_lexer": "ipython3",
   "version": "3.9.13"
  }
 },
 "nbformat": 4,
 "nbformat_minor": 5
}
